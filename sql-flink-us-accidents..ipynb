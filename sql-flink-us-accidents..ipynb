﻿{
  "metadata": {
    "name": "sql-flink-us-accidents",
    "kernelspec": {
      "language": "scala",
      "name": "spark2-scala"
    },
    "language_info": {
      "codemirror_mode": "text/x-scala",
      "file_extension": ".scala",
      "mimetype": "text/x-scala",
      "name": "scala",
      "pygments_lexer": "scala"
    }
  },
  "nbformat": 4,
  "nbformat_minor": 2,
  "cells": [
    {
      "cell_type": "markdown",
      "metadata": {},
      "source": "## Streaming Lab: Apache Flink - Using SQL - Demo 1"
    },
    {
      "cell_type": "markdown",
      "metadata": {},
      "source": "#### Data pipeline: Kinesis Stream --\u003e KDA and Apache Flink --\u003e Kinesis Stream"
    },
    {
      "cell_type": "code",
      "execution_count": 2,
      "metadata": {
        "autoscroll": "auto"
      },
      "outputs": [],
      "source": "%flink.ssql\n\n/*Option \u0027IF NOT EXISTS\u0027 can be used, to protect the existing Schema */\nDROP TABLE IF EXISTS us_accidents_stream;\n\nCREATE TABLE us_accidents_stream (\n  `ID` VARCHAR(50), \n  `Severity` bigint, \n  `Start_Time` TIMESTAMP(3), \n  `End_Time` TIMESTAMP(3), \n  `Start_Lat` VARCHAR(50), \n  `Start_Lng` VARCHAR(50), \n  `End_Lat` VARCHAR(50), \n  `End_Lng` VARCHAR(50), \n  `Distance(mi)` VARCHAR(50), \n  `Description` VARCHAR(500), \n  `Number` VARCHAR(50), \n  `Street` VARCHAR(50), \n  `Side` VARCHAR(50), \n  `City` VARCHAR(50), \n  `County` VARCHAR(50), \n  `State` VARCHAR(50), \n  `Zipcode` VARCHAR(50), \n  `Country` VARCHAR(50), \n  `Timezone` VARCHAR(50), \n  `Airport_Code` VARCHAR(50), \n  `Weather_Timestamp` TIMESTAMP(3), \n  `Temperature(F)` VARCHAR(50), \n  `Wind_Chill(F)` VARCHAR(50), \n  `Humidity(%)` VARCHAR(50), \n  `Pressure(in)` VARCHAR(50), \n  `Visibility(mi)` VARCHAR(50), \n  `Wind_Direction` string, \n  `Wind_Speed(mph)` VARCHAR(50), \n  `Precipitation(in)` VARCHAR(50), \n  `Weather_Condition` VARCHAR(50), \n  `Amenity` VARCHAR(50), \n  `Bump` boolean, \n  `Crossing` boolean, \n  `Give_Way` boolean, \n  `Junction` boolean, \n  `No_Exit` boolean, \n  `Railway` boolean, \n  `Roundabout` boolean, \n  `Station` boolean, \n  `Stop` boolean, \n  `Traffic_Calming` boolean, \n  `Traffic_Signal` boolean, \n  `Turning_Loop` boolean, \n  `Sunrise_Sunset` VARCHAR(50), \n  `Civil_Twilight` VARCHAR(50), \n  `Nautical_Twilight` VARCHAR(50), \n  `Astronomical_Twilight` VARCHAR(50),\n  `Txn_Timestamp` TIMESTAMP(3),\n  WATERMARK FOR Txn_Timestamp as Txn_Timestamp - INTERVAL \u00275\u0027 SECOND  \n)\nPARTITIONED BY (Severity)\nWITH (\n  \u0027connector\u0027 \u003d \u0027kinesis\u0027,\n  \u0027stream\u0027 \u003d \u0027us-accidents-data-stream-1\u0027,\n  \u0027aws.region\u0027 \u003d \u0027us-east-1\u0027,\n  \u0027scan.stream.initpos\u0027 \u003d \u0027LATEST\u0027,\n  \u0027format\u0027 \u003d \u0027json\u0027,\n  \u0027json.timestamp-format.standard\u0027 \u003d \u0027ISO-8601\u0027\n);\n\n\n/*Option \u0027IF NOT EXISTS\u0027 can be used, to protect the existing Schema */\nDROP TABLE IF EXISTS us_accidents_stream_1_results;\n\nCREATE TABLE us_accidents_stream_1_results (\n  `ID` VARCHAR(50), \n  `Severity` bigint, \n  `City` VARCHAR(50), \n  `County` VARCHAR(50), \n  `Txn_Timestamp` TIMESTAMP(3)\n)\nPARTITIONED BY (Severity)\nWITH (\n  \u0027connector\u0027 \u003d \u0027kinesis\u0027,\n  \u0027stream\u0027 \u003d \u0027us-accidents-data-stream-2\u0027,\n  \u0027aws.region\u0027 \u003d \u0027us-east-1\u0027,\n  \u0027format\u0027 \u003d \u0027json\u0027,\n  \u0027json.timestamp-format.standard\u0027 \u003d \u0027ISO-8601\u0027\n);\n\ninsert into us_accidents_stream_1_results\nselect  ID, Severity, City,  County, Txn_Timestamp\nfrom us_accidents_stream where Severity \u003e 3;\n"
    },
    {
      "cell_type": "code",
      "execution_count": 3,
      "metadata": {
        "autoscroll": "auto"
      },
      "outputs": [],
      "source": "%flink.ssql\n"
    }
  ]
}